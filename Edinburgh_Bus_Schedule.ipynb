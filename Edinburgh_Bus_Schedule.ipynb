{
  "nbformat": 4,
  "nbformat_minor": 0,
  "metadata": {
    "colab": {
      "name": "Edinburgh Bus Schedule",
      "provenance": [],
      "collapsed_sections": []
    },
    "kernelspec": {
      "name": "python3",
      "display_name": "Python 3"
    },
    "language_info": {
      "name": "python"
    }
  },
  "cells": [
    {
      "cell_type": "code",
      "source": [
        "from google.colab import drive\n",
        "drive.mount('/content/drive')"
      ],
      "metadata": {
        "colab": {
          "base_uri": "https://localhost:8080/"
        },
        "id": "lYJiJffYBynJ",
        "outputId": "c03f3f31-7d14-44e5-a2e1-ba2c31d9e739"
      },
      "execution_count": null,
      "outputs": [
        {
          "output_type": "stream",
          "name": "stdout",
          "text": [
            "Drive already mounted at /content/drive; to attempt to forcibly remount, call drive.mount(\"/content/drive\", force_remount=True).\n"
          ]
        }
      ]
    },
    {
      "cell_type": "code",
      "execution_count": null,
      "metadata": {
        "id": "-Kdp3YPU3uE7"
      },
      "outputs": [],
      "source": [
        "# if you do not have write access to this path, you may need \n",
        "# to change it to a path that you do have write access to.\n",
        "gdrivePath=\"/content/drive/MyDrive/\"\n",
        "import sqlite3\n",
        "import pandas as pd\n",
        "# create a connection to a database\n",
        "conn = sqlite3.connect(gdrivePath+\"Edinburgh_Buses.db\") "
      ]
    },
    {
      "cell_type": "code",
      "source": [
        "def execSQL(conn,query):\n",
        "  conn.execute(query) # execute an SQL query\n",
        "  conn.commit() # \"commit\" that query in order to make its action permanent"
      ],
      "metadata": {
        "id": "sP7x2BuJ8UNr"
      },
      "execution_count": null,
      "outputs": []
    },
    {
      "cell_type": "code",
      "source": [
        "def allrowsSelect(conn,query):\n",
        "  cursor = conn.execute(query)\n",
        "  for row in cursor:\n",
        "   print(row)"
      ],
      "metadata": {
        "id": "XguypGqJFIY1"
      },
      "execution_count": null,
      "outputs": []
    },
    {
      "cell_type": "code",
      "source": [
        "import pandas as pd\n",
        "pd.read_sql_query('select * from route where company=\"LRT\"',conn)"
      ],
      "metadata": {
        "colab": {
          "base_uri": "https://localhost:8080/",
          "height": 423
        },
        "id": "E5qT-fuQVD3C",
        "outputId": "fc5a7aba-fd87-49b0-f646-568bbc5a57cc"
      },
      "execution_count": null,
      "outputs": [
        {
          "output_type": "execute_result",
          "data": {
            "text/plain": [
              "    num company  pos  stop\n",
              "0     1     LRT    1   137\n",
              "1     1     LRT    2    99\n",
              "2     1     LRT    3    59\n",
              "3     1     LRT    4    66\n",
              "4     1     LRT    5    42\n",
              "..   ..     ...  ...   ...\n",
              "687   9     LRT    5    37\n",
              "688   9     LRT    6    99\n",
              "689   9     LRT    7   105\n",
              "690   9     LRT    8   162\n",
              "691   9     LRT    9   215\n",
              "\n",
              "[692 rows x 4 columns]"
            ],
            "text/html": [
              "\n",
              "  <div id=\"df-2e5021c8-504f-4e7f-831e-e040bd926c10\">\n",
              "    <div class=\"colab-df-container\">\n",
              "      <div>\n",
              "<style scoped>\n",
              "    .dataframe tbody tr th:only-of-type {\n",
              "        vertical-align: middle;\n",
              "    }\n",
              "\n",
              "    .dataframe tbody tr th {\n",
              "        vertical-align: top;\n",
              "    }\n",
              "\n",
              "    .dataframe thead th {\n",
              "        text-align: right;\n",
              "    }\n",
              "</style>\n",
              "<table border=\"1\" class=\"dataframe\">\n",
              "  <thead>\n",
              "    <tr style=\"text-align: right;\">\n",
              "      <th></th>\n",
              "      <th>num</th>\n",
              "      <th>company</th>\n",
              "      <th>pos</th>\n",
              "      <th>stop</th>\n",
              "    </tr>\n",
              "  </thead>\n",
              "  <tbody>\n",
              "    <tr>\n",
              "      <th>0</th>\n",
              "      <td>1</td>\n",
              "      <td>LRT</td>\n",
              "      <td>1</td>\n",
              "      <td>137</td>\n",
              "    </tr>\n",
              "    <tr>\n",
              "      <th>1</th>\n",
              "      <td>1</td>\n",
              "      <td>LRT</td>\n",
              "      <td>2</td>\n",
              "      <td>99</td>\n",
              "    </tr>\n",
              "    <tr>\n",
              "      <th>2</th>\n",
              "      <td>1</td>\n",
              "      <td>LRT</td>\n",
              "      <td>3</td>\n",
              "      <td>59</td>\n",
              "    </tr>\n",
              "    <tr>\n",
              "      <th>3</th>\n",
              "      <td>1</td>\n",
              "      <td>LRT</td>\n",
              "      <td>4</td>\n",
              "      <td>66</td>\n",
              "    </tr>\n",
              "    <tr>\n",
              "      <th>4</th>\n",
              "      <td>1</td>\n",
              "      <td>LRT</td>\n",
              "      <td>5</td>\n",
              "      <td>42</td>\n",
              "    </tr>\n",
              "    <tr>\n",
              "      <th>...</th>\n",
              "      <td>...</td>\n",
              "      <td>...</td>\n",
              "      <td>...</td>\n",
              "      <td>...</td>\n",
              "    </tr>\n",
              "    <tr>\n",
              "      <th>687</th>\n",
              "      <td>9</td>\n",
              "      <td>LRT</td>\n",
              "      <td>5</td>\n",
              "      <td>37</td>\n",
              "    </tr>\n",
              "    <tr>\n",
              "      <th>688</th>\n",
              "      <td>9</td>\n",
              "      <td>LRT</td>\n",
              "      <td>6</td>\n",
              "      <td>99</td>\n",
              "    </tr>\n",
              "    <tr>\n",
              "      <th>689</th>\n",
              "      <td>9</td>\n",
              "      <td>LRT</td>\n",
              "      <td>7</td>\n",
              "      <td>105</td>\n",
              "    </tr>\n",
              "    <tr>\n",
              "      <th>690</th>\n",
              "      <td>9</td>\n",
              "      <td>LRT</td>\n",
              "      <td>8</td>\n",
              "      <td>162</td>\n",
              "    </tr>\n",
              "    <tr>\n",
              "      <th>691</th>\n",
              "      <td>9</td>\n",
              "      <td>LRT</td>\n",
              "      <td>9</td>\n",
              "      <td>215</td>\n",
              "    </tr>\n",
              "  </tbody>\n",
              "</table>\n",
              "<p>692 rows × 4 columns</p>\n",
              "</div>\n",
              "      <button class=\"colab-df-convert\" onclick=\"convertToInteractive('df-2e5021c8-504f-4e7f-831e-e040bd926c10')\"\n",
              "              title=\"Convert this dataframe to an interactive table.\"\n",
              "              style=\"display:none;\">\n",
              "        \n",
              "  <svg xmlns=\"http://www.w3.org/2000/svg\" height=\"24px\"viewBox=\"0 0 24 24\"\n",
              "       width=\"24px\">\n",
              "    <path d=\"M0 0h24v24H0V0z\" fill=\"none\"/>\n",
              "    <path d=\"M18.56 5.44l.94 2.06.94-2.06 2.06-.94-2.06-.94-.94-2.06-.94 2.06-2.06.94zm-11 1L8.5 8.5l.94-2.06 2.06-.94-2.06-.94L8.5 2.5l-.94 2.06-2.06.94zm10 10l.94 2.06.94-2.06 2.06-.94-2.06-.94-.94-2.06-.94 2.06-2.06.94z\"/><path d=\"M17.41 7.96l-1.37-1.37c-.4-.4-.92-.59-1.43-.59-.52 0-1.04.2-1.43.59L10.3 9.45l-7.72 7.72c-.78.78-.78 2.05 0 2.83L4 21.41c.39.39.9.59 1.41.59.51 0 1.02-.2 1.41-.59l7.78-7.78 2.81-2.81c.8-.78.8-2.07 0-2.86zM5.41 20L4 18.59l7.72-7.72 1.47 1.35L5.41 20z\"/>\n",
              "  </svg>\n",
              "      </button>\n",
              "      \n",
              "  <style>\n",
              "    .colab-df-container {\n",
              "      display:flex;\n",
              "      flex-wrap:wrap;\n",
              "      gap: 12px;\n",
              "    }\n",
              "\n",
              "    .colab-df-convert {\n",
              "      background-color: #E8F0FE;\n",
              "      border: none;\n",
              "      border-radius: 50%;\n",
              "      cursor: pointer;\n",
              "      display: none;\n",
              "      fill: #1967D2;\n",
              "      height: 32px;\n",
              "      padding: 0 0 0 0;\n",
              "      width: 32px;\n",
              "    }\n",
              "\n",
              "    .colab-df-convert:hover {\n",
              "      background-color: #E2EBFA;\n",
              "      box-shadow: 0px 1px 2px rgba(60, 64, 67, 0.3), 0px 1px 3px 1px rgba(60, 64, 67, 0.15);\n",
              "      fill: #174EA6;\n",
              "    }\n",
              "\n",
              "    [theme=dark] .colab-df-convert {\n",
              "      background-color: #3B4455;\n",
              "      fill: #D2E3FC;\n",
              "    }\n",
              "\n",
              "    [theme=dark] .colab-df-convert:hover {\n",
              "      background-color: #434B5C;\n",
              "      box-shadow: 0px 1px 3px 1px rgba(0, 0, 0, 0.15);\n",
              "      filter: drop-shadow(0px 1px 2px rgba(0, 0, 0, 0.3));\n",
              "      fill: #FFFFFF;\n",
              "    }\n",
              "  </style>\n",
              "\n",
              "      <script>\n",
              "        const buttonEl =\n",
              "          document.querySelector('#df-2e5021c8-504f-4e7f-831e-e040bd926c10 button.colab-df-convert');\n",
              "        buttonEl.style.display =\n",
              "          google.colab.kernel.accessAllowed ? 'block' : 'none';\n",
              "\n",
              "        async function convertToInteractive(key) {\n",
              "          const element = document.querySelector('#df-2e5021c8-504f-4e7f-831e-e040bd926c10');\n",
              "          const dataTable =\n",
              "            await google.colab.kernel.invokeFunction('convertToInteractive',\n",
              "                                                     [key], {});\n",
              "          if (!dataTable) return;\n",
              "\n",
              "          const docLinkHtml = 'Like what you see? Visit the ' +\n",
              "            '<a target=\"_blank\" href=https://colab.research.google.com/notebooks/data_table.ipynb>data table notebook</a>'\n",
              "            + ' to learn more about interactive tables.';\n",
              "          element.innerHTML = '';\n",
              "          dataTable['output_type'] = 'display_data';\n",
              "          await google.colab.output.renderOutput(dataTable, element);\n",
              "          const docLink = document.createElement('div');\n",
              "          docLink.innerHTML = docLinkHtml;\n",
              "          element.appendChild(docLink);\n",
              "        }\n",
              "      </script>\n",
              "    </div>\n",
              "  </div>\n",
              "  "
            ]
          },
          "metadata": {},
          "execution_count": 36
        }
      ]
    },
    {
      "cell_type": "code",
      "source": [
        "#Write a query to find all of the distinct bus companies.\n",
        "allrowsSelect(conn,\"select * from pragma_table_info('route')\")"
      ],
      "metadata": {
        "colab": {
          "base_uri": "https://localhost:8080/"
        },
        "id": "5VpIrM-tpw7p",
        "outputId": "6d5ff29f-a395-456e-eda8-2a132eed7cfa"
      },
      "execution_count": null,
      "outputs": [
        {
          "output_type": "stream",
          "name": "stdout",
          "text": [
            "(0, 'num', 'VARCHAR(3)', 0, None, 0)\n",
            "(1, 'company', 'VARCHAR(3)', 0, None, 0)\n",
            "(2, 'pos', 'INTEGER', 0, None, 0)\n",
            "(3, 'stop', 'INTEGER', 0, None, 0)\n"
          ]
        }
      ]
    },
    {
      "cell_type": "code",
      "source": [
        "query = \"\"\"select distinct company from route\"\"\"\n",
        "allrowsSelect(conn,query)"
      ],
      "metadata": {
        "colab": {
          "base_uri": "https://localhost:8080/"
        },
        "id": "n8xQsuLUDIjS",
        "outputId": "d1684067-e0a7-4fc2-f5c9-65b3a68df06f"
      },
      "execution_count": null,
      "outputs": [
        {
          "output_type": "stream",
          "name": "stdout",
          "text": [
            "('LRT',)\n",
            "('MAC',)\n",
            "('SMT',)\n",
            "('SMJ',)\n",
            "('CCC',)\n",
            "('MID',)\n",
            "('LOW',)\n",
            "('LRJ',)\n",
            "('WIL',)\n",
            "('FS',)\n",
            "('FF',)\n",
            "('JM',)\n",
            "('ROU',)\n",
            "('VL',)\n"
          ]
        }
      ]
    },
    {
      "cell_type": "code",
      "source": [
        "#Write a query that lists all of the distinct route number and company combinations.\n",
        "query = \"\"\"select distinct company, num from route\"\"\"\n",
        "allrowsSelect(conn,query)"
      ],
      "metadata": {
        "id": "hvCvEexrDeGz",
        "colab": {
          "base_uri": "https://localhost:8080/"
        },
        "outputId": "00868de4-6c3b-4dbd-d8a7-eb1ee8e24270"
      },
      "execution_count": null,
      "outputs": [
        {
          "output_type": "stream",
          "name": "stdout",
          "text": [
            "('LRT', '1')\n",
            "('LRT', '10')\n",
            "('LRT', '100')\n",
            "('MAC', '100')\n",
            "('SMT', '106')\n",
            "('LRT', '11')\n",
            "('SMT', '113')\n",
            "('LRT', '12')\n",
            "('SMT', '124')\n",
            "('SMT', '129')\n",
            "('LRT', '13')\n",
            "('SMT', '134')\n",
            "('SMT', '137')\n",
            "('LRT', '14')\n",
            "('SMJ', '142')\n",
            "('LRT', '15')\n",
            "('LRT', '16')\n",
            "('SMT', '16')\n",
            "('LRT', '17')\n",
            "('SMT', '18')\n",
            "('LRT', '19')\n",
            "('SMT', '19')\n",
            "('LRT', '19A')\n",
            "('LRT', '2')\n",
            "('LRT', '20')\n",
            "('LRT', '21')\n",
            "('LRT', '22')\n",
            "('LRT', '22A')\n",
            "('LRT', '23')\n",
            "('LRT', '24')\n",
            "('LRT', '25')\n",
            "('CCC', '251')\n",
            "('LRT', '26')\n",
            "('LRT', '26A')\n",
            "('LRT', '27')\n",
            "('MID', '27')\n",
            "('SMT', '275')\n",
            "('LRT', '28')\n",
            "('LOW', '29')\n",
            "('LRT', '2A')\n",
            "('LRT', '3')\n",
            "('LOW', '30')\n",
            "('LRT', '30')\n",
            "('LRT', '31')\n",
            "('LOW', '315')\n",
            "('LRT', '32')\n",
            "('LRT', '33')\n",
            "('LRT', '34')\n",
            "('LRT', '35')\n",
            "('LRT', '36')\n",
            "('LRT', '37')\n",
            "('SMT', '37')\n",
            "('LRT', '38')\n",
            "('MID', '38')\n",
            "('LRJ', '3A')\n",
            "('LRT', '4')\n",
            "('LRT', '40')\n",
            "('LRT', '41')\n",
            "('LRT', '42')\n",
            "('LRT', '43')\n",
            "('SMT', '43')\n",
            "('LRT', '44')\n",
            "('LRT', '45')\n",
            "('MID', '455')\n",
            "('LRT', '46A')\n",
            "('LRT', '47')\n",
            "('MID', '47')\n",
            "('WIL', '48')\n",
            "('SMT', '49')\n",
            "('LRT', '5')\n",
            "('LRT', '51')\n",
            "('LRT', '52')\n",
            "('FS', '53')\n",
            "('FS', '55')\n",
            "('LRT', '55')\n",
            "('FF', '56')\n",
            "('LRT', '58')\n",
            "('LRT', '59')\n",
            "('LRT', '6')\n",
            "('JM', '60')\n",
            "('LRT', '61')\n",
            "('SMT', '61')\n",
            "('LOW', '62')\n",
            "('LRT', '63')\n",
            "('SMT', '64')\n",
            "('SMT', '64A')\n",
            "('LRT', '65')\n",
            "('SMT', '65')\n",
            "('SMT', '66')\n",
            "('SMT', '66A')\n",
            "('LRT', '69')\n",
            "('LRT', '7')\n",
            "('SMT', '74')\n",
            "('LRT', '75')\n",
            "('SMT', '77')\n",
            "('SMT', '79')\n",
            "('LRT', '7A')\n",
            "('LRT', '8')\n",
            "('LRT', '80')\n",
            "('SMT', '80')\n",
            "('LRT', '80A')\n",
            "('LRT', '80B')\n",
            "('LRT', '81')\n",
            "('LRT', '81A')\n",
            "('LRT', '82')\n",
            "('LRT', '84')\n",
            "('LRT', '85')\n",
            "('SMT', '85')\n",
            "('LRT', '86')\n",
            "('SMT', '86')\n",
            "('LRT', '86A')\n",
            "('LRT', '87')\n",
            "('SMT', '87')\n",
            "('LRT', '87A')\n",
            "('LRT', '9')\n",
            "('SMT', '93')\n",
            "('LOW', '94')\n",
            "('LOW', '95')\n",
            "('SMT', 'A8')\n",
            "('SMT', 'C12')\n",
            "('SMT', 'C3')\n",
            "('SMT', 'C33')\n",
            "('SMT', 'C5')\n",
            "('SMT', 'C55')\n",
            "('SMT', 'C70')\n",
            "('SMT', 'D25')\n",
            "('SMT', 'D26')\n",
            "('SMT', 'D27')\n",
            "('SMT', 'D28')\n",
            "('ROU', 'R1')\n",
            "('ROU', 'R2')\n",
            "('VL', 'VL2')\n"
          ]
        }
      ]
    },
    {
      "cell_type": "code",
      "source": [
        "#Write a query to find the route numbers that are used by more than one company, and the number of times that they are used.\n",
        "query = \"\"\"select num, count(distinct company) as count from route group by num having count > 1\"\"\"\n",
        "allrowsSelect(conn, query)"
      ],
      "metadata": {
        "id": "0mJE8FIYDxfv",
        "colab": {
          "base_uri": "https://localhost:8080/"
        },
        "outputId": "348fa352-7363-41fb-baf6-ac8c02a0cb43"
      },
      "execution_count": null,
      "outputs": [
        {
          "output_type": "stream",
          "name": "stdout",
          "text": [
            "('100', 2)\n",
            "('16', 2)\n",
            "('19', 2)\n",
            "('27', 2)\n",
            "('30', 2)\n",
            "('37', 2)\n",
            "('38', 2)\n",
            "('43', 2)\n",
            "('47', 2)\n",
            "('55', 2)\n",
            "('61', 2)\n",
            "('65', 2)\n",
            "('80', 2)\n",
            "('85', 2)\n",
            "('86', 2)\n",
            "('87', 2)\n"
          ]
        }
      ]
    },
    {
      "cell_type": "code",
      "source": [
        "#Write a query to find the names of all of the stops on route 17 operated by company LRT, ordered by position. \n",
        "query='''\n",
        "select route.pos, route.stop, stops.name\n",
        "\tfrom route \n",
        "\tinner join stops on route.stop = stops.id\n",
        "\twhere route.company == \"LRT\" and route.num == 17\n",
        "\torder by route.pos\n",
        "'''  \n",
        "allrowsSelect(conn, query)"
      ],
      "metadata": {
        "id": "RPOM9Eb6FC7C",
        "colab": {
          "base_uri": "https://localhost:8080/"
        },
        "outputId": "0b7f09ce-366a-40b2-f7e3-774dc1f94af4"
      },
      "execution_count": null,
      "outputs": [
        {
          "output_type": "stream",
          "name": "stdout",
          "text": [
            "(1, 167, 'Newhaven')\n",
            "(2, 137, 'Leith')\n",
            "(3, 141, 'Leith Walk')\n",
            "(4, 194, 'Princes Street')\n",
            "(5, 230, 'Tollcross')\n",
            "(6, 160, 'Morningside')\n",
            "(7, 179, 'Oxgangs')\n"
          ]
        }
      ]
    },
    {
      "cell_type": "code",
      "source": [
        "#Write a query that counts how many distinct routes each company has\n",
        "query = \"\"\"select company, count(distinct num) from route group by company\"\"\"\n",
        "allrowsSelect(conn,query)"
      ],
      "metadata": {
        "colab": {
          "base_uri": "https://localhost:8080/"
        },
        "id": "Z8gnP8wmJzik",
        "outputId": "dce0a327-7c25-4055-e7a0-3a050290a0f2"
      },
      "execution_count": null,
      "outputs": [
        {
          "output_type": "stream",
          "name": "stdout",
          "text": [
            "('CCC', 1)\n",
            "('FF', 1)\n",
            "('FS', 2)\n",
            "('JM', 1)\n",
            "('LOW', 6)\n",
            "('LRJ', 1)\n",
            "('LRT', 72)\n",
            "('MAC', 1)\n",
            "('MID', 4)\n",
            "('ROU', 2)\n",
            "('SMJ', 1)\n",
            "('SMT', 38)\n",
            "('VL', 1)\n",
            "('WIL', 1)\n"
          ]
        }
      ]
    },
    {
      "cell_type": "code",
      "source": [
        "#Write a query to find all of the distinct routes operated by company \"LOW\"\n",
        "query = \"\"\"select distinct num from route where company = 'LOW'\"\"\"\n",
        "allrowsSelect(conn,query)"
      ],
      "metadata": {
        "colab": {
          "base_uri": "https://localhost:8080/"
        },
        "id": "0VyhdF84LD9Y",
        "outputId": "ddc20997-5ce9-48c8-f462-fbc41b055ef7"
      },
      "execution_count": null,
      "outputs": [
        {
          "output_type": "stream",
          "name": "stdout",
          "text": [
            "('29',)\n",
            "('30',)\n",
            "('315',)\n",
            "('62',)\n",
            "('94',)\n",
            "('95',)\n"
          ]
        }
      ]
    },
    {
      "cell_type": "code",
      "source": [
        "#Ten routes with the most stops\n",
        "\n",
        "query = \"\"\"select distinct num, company, count(stop) as count from route group by num, company order by count desc limit 10\"\"\"\n",
        "\n",
        "allrowsSelect(conn,query)\n"
      ],
      "metadata": {
        "colab": {
          "base_uri": "https://localhost:8080/"
        },
        "id": "Nny1AHIXLnWy",
        "outputId": "3b4c88bd-bb66-41a1-835c-97350ca3fddf"
      },
      "execution_count": null,
      "outputs": [
        {
          "output_type": "stream",
          "name": "stdout",
          "text": [
            "('32', 'LRT', 23)\n",
            "('52', 'LRT', 23)\n",
            "('12', 'LRT', 18)\n",
            "('2A', 'LRT', 18)\n",
            "('2', 'LRT', 17)\n",
            "('34', 'LRT', 15)\n",
            "('35', 'LRT', 15)\n",
            "('66A', 'SMT', 13)\n",
            "('81A', 'LRT', 13)\n",
            "('14', 'LRT', 12)\n"
          ]
        }
      ]
    },
    {
      "cell_type": "code",
      "source": [
        "#Ten routes with the fewest stops.\n",
        "query = \"\"\"select distinct num, company, count(stop) as count from route group by num, company order by count asc limit 10\"\"\"\n",
        "\n",
        "allrowsSelect(conn,query)\n"
      ],
      "metadata": {
        "id": "RYpMHC68MVpZ",
        "colab": {
          "base_uri": "https://localhost:8080/"
        },
        "outputId": "9292d889-7425-43ad-f708-104cfa3fa012"
      },
      "execution_count": null,
      "outputs": [
        {
          "output_type": "stream",
          "name": "stdout",
          "text": [
            "('60', 'JM', 2)\n",
            "('59', 'LRT', 3)\n",
            "('100', 'LRT', 4)\n",
            "('48', 'WIL', 4)\n",
            "('55', 'LRT', 4)\n",
            "('86A', 'LRT', 4)\n",
            "('93', 'SMT', 4)\n",
            "('VL2', 'VL', 4)\n",
            "('49', 'SMT', 5)\n",
            "('58', 'LRT', 5)\n"
          ]
        }
      ]
    },
    {
      "cell_type": "code",
      "source": [
        "#Routes that have the same stop more than once\n",
        "query = \"\"\"\n",
        "create view same_stop3 as \n",
        "select num, company, stop, \n",
        "count(stop) as count\n",
        "from route\n",
        "group by num, company, stop\n",
        "having count > 1\n",
        "\"\"\"\n",
        "execSQL(conn, query)"
      ],
      "metadata": {
        "id": "Se4Y121Fb4Tc"
      },
      "execution_count": null,
      "outputs": []
    },
    {
      "cell_type": "code",
      "source": [
        "query = \"\"\"select * from same_stop3\"\"\"\n",
        "allrowsSelect(conn, query)"
      ],
      "metadata": {
        "colab": {
          "base_uri": "https://localhost:8080/"
        },
        "id": "PoR3ZNS20mFB",
        "outputId": "0d629470-5d80-4173-a667-2823b7d061d7"
      },
      "execution_count": null,
      "outputs": [
        {
          "output_type": "stream",
          "name": "stdout",
          "text": [
            "('1', 'LRT', 137, 2)\n",
            "('12', 'LRT', 31, 2)\n",
            "('12', 'LRT', 115, 2)\n",
            "('12', 'LRT', 173, 2)\n",
            "('14', 'LRT', 215, 2)\n",
            "('19', 'LRT', 28, 2)\n",
            "('19A', 'LRT', 28, 2)\n",
            "('2', 'LRT', 31, 2)\n",
            "('2', 'LRT', 115, 2)\n",
            "('2', 'LRT', 173, 2)\n",
            "('275', 'SMT', 48, 2)\n",
            "('275', 'SMT', 165, 2)\n",
            "('2A', 'LRT', 31, 2)\n",
            "('2A', 'LRT', 115, 2)\n",
            "('2A', 'LRT', 173, 2)\n",
            "('32', 'LRT', 173, 2)\n",
            "('34', 'LRT', 92, 2)\n",
            "('34', 'LRT', 213, 2)\n",
            "('35', 'LRT', 92, 2)\n",
            "('35', 'LRT', 213, 2)\n",
            "('42', 'LRT', 36, 2)\n",
            "('46A', 'LRT', 36, 2)\n",
            "('52', 'LRT', 173, 2)\n",
            "('6', 'LRT', 137, 2)\n",
            "('81', 'LRT', 47, 2)\n",
            "('81', 'LRT', 59, 2)\n",
            "('81', 'LRT', 162, 2)\n",
            "('81', 'LRT', 219, 2)\n",
            "('81A', 'LRT', 47, 2)\n",
            "('81A', 'LRT', 59, 2)\n",
            "('81A', 'LRT', 162, 2)\n",
            "('81A', 'LRT', 219, 2)\n",
            "('R1', 'ROU', 106, 2)\n",
            "('R2', 'ROU', 106, 2)\n"
          ]
        }
      ]
    },
    {
      "cell_type": "code",
      "source": [
        "#ten stops on the most routes and how many routes they're on\n",
        "query = \"\"\"select stop, count(stop) from \n",
        "(select distinct stop, num, company \n",
        "from route\n",
        "inner join stops on route.stop = stops.id\n",
        ") \n",
        "group by stop\n",
        "order by count(stop) desc\n",
        "limit 10\n",
        "\"\"\"\n",
        "allrowsSelect(conn, query)"
      ],
      "metadata": {
        "id": "k4vgWtf_b5H3",
        "colab": {
          "base_uri": "https://localhost:8080/"
        },
        "outputId": "cf090a66-b53a-437e-d373-035646a127cf"
      },
      "execution_count": null,
      "outputs": [
        {
          "output_type": "stream",
          "name": "stdout",
          "text": [
            "(219, 47)\n",
            "(115, 42)\n",
            "(194, 38)\n",
            "(29, 36)\n",
            "(48, 27)\n",
            "(149, 25)\n",
            "(101, 20)\n",
            "(137, 20)\n",
            "(163, 20)\n",
            "(213, 20)\n"
          ]
        }
      ]
    },
    {
      "cell_type": "code",
      "source": [
        "#routes from 219 to 115\n",
        "query = \"\"\"\n",
        "  select num, company from\n",
        "  (select a.stop, b.stop, a.num, a.company\n",
        "  from route a, route b\n",
        "  where a.num = b.num and a.company = b.company and a.stop == 219 and b.stop == 115 )\n",
        "\"\"\"\n",
        "allrowsSelect(conn, query)"
      ],
      "metadata": {
        "id": "GS7nEMVzb6fJ",
        "colab": {
          "base_uri": "https://localhost:8080/"
        },
        "outputId": "909c09ba-a559-42c4-d390-d839dbedd533"
      },
      "execution_count": null,
      "outputs": [
        {
          "output_type": "stream",
          "name": "stdout",
          "text": [
            "('137', 'SMT')\n",
            "('22', 'LRT')\n",
            "('22A', 'LRT')\n",
            "('25', 'LRT')\n",
            "('37', 'SMT')\n",
            "('38', 'MID')\n",
            "('61', 'LRT')\n",
            "('61', 'SMT')\n",
            "('63', 'LRT')\n",
            "('C12', 'SMT')\n"
          ]
        }
      ]
    }
  ]
}